{
 "cells": [
  {
   "cell_type": "code",
   "execution_count": 1,
   "metadata": {},
   "outputs": [],
   "source": [
    "import boto3\n",
    "from langchain_aws import ChatBedrock\n",
    "from botocore.config import Config\n",
    "import warnings\n",
    "warnings.filterwarnings(\"ignore\")\n",
    "\n",
    "region = \"us-west-2\"\n",
    "config = Config(\n",
    "    region_name=region,\n",
    "    signature_version = \"v4\",\n",
    "    retries={\n",
    "        \"max_attempts\":3,\n",
    "        \"mode\" : \"standard\",\n",
    "    }\n",
    ")\n",
    "bedrock_rt = boto3.client(\"bedrock-runtime\", config=config)\n",
    "\n",
    "model_id = \"anthropic.claude-3-sonnet-20240229-v1:0\"\n",
    "\n",
    "model_kwargs = {\n",
    "    \"max_tokens\" : 4096,\n",
    "    \"temperature\" : 0.0,\n",
    "    \"stop_sequences\" : [\"Human\"],\n",
    "}\n",
    "\n",
    "llm = ChatBedrock(\n",
    "    client = bedrock_rt,\n",
    "    model_id = model_id,\n",
    "    model_kwargs = model_kwargs,\n",
    ")"
   ]
  },
  {
   "cell_type": "code",
   "execution_count": 12,
   "metadata": {},
   "outputs": [],
   "source": [
    "from langchain_core.messages import (\n",
    "    BaseMessage,\n",
    "    HumanMessage,\n",
    "    ToolMessage,\n",
    "    FunctionMessage,\n",
    ")\n",
    "from langchain_core.prompts import ChatPromptTemplate, MessagesPlaceholder\n",
    "\n",
    "from langgraph.graph import END, StateGraph, START\n",
    "\n",
    "\n",
    "def create_agent(llm, tools, system_message: str):\n",
    "    \"\"\"Create an agent.\"\"\"\n",
    "    prompt = ChatPromptTemplate.from_messages(\n",
    "        [\n",
    "            (\n",
    "                \"system\",\n",
    "                \"You are a helpful AI assistant, collaborating with other assistants.\"\n",
    "                \" Use the provided tools to progress towards answering the question.\"\n",
    "                \" If you are unable to fully answer, that's OK, another assistant with different tools \"\n",
    "                \" will help where you left off. Execute what you can to make progress.\"\n",
    "                \" If you or any of the other assistants have the final answer or deliverable,\"\n",
    "                \" prefix your response with FINAL ANSWER so the team knows to stop.\"\n",
    "                \" You have access to the following tools: {tool_names}.\\n{system_message}\",\n",
    "            ),\n",
    "            MessagesPlaceholder(variable_name= \"messages\"),\n",
    "        ]\n",
    "    )\n",
    "    prompt = prompt.partial(system_message=system_message)\n",
    "    prompt = prompt.partial(tool_names=\", \".join([tool.name for tool in tools]))\n",
    "    return prompt | llm.bind_tools(tools)"
   ]
  },
  {
   "cell_type": "code",
   "execution_count": 5,
   "metadata": {},
   "outputs": [],
   "source": [
    "import operator\n",
    "from typing import Annotated,Sequence,TypedDict\n",
    "from langgraph.graph import END,StateGraph,START\n",
    "from langchain_core.messages import BaseMessage\n",
    "\n",
    "class AgentState(TypedDict):\n",
    "    messages: Annotated[Sequence[BaseMessage],operator.add]"
   ]
  },
  {
   "cell_type": "code",
   "execution_count": 6,
   "metadata": {},
   "outputs": [],
   "source": [
    "def summarizer(state):\n",
    "    messages = state['messages']\n",
    "    git_diff = messages[0]\n",
    "    prompt = \"Your task is to provide a summary of the git diff provided in a concise manner. Following is the git diff : {git_diff}\"\n",
    "    response = llm.invoke(prompt)\n",
    "    return {\"messages\" : [response]}\n",
    "\n",
    "def reviewer(state):\n",
    "    messages = state['messages']\n",
    "    git_diff = messages[0]\n",
    "    prompt = \"Your task is to provide review of the code written,point out potential risks and suggest improvements in a concise manner. Following is the git diff: {git_diff}\"\n",
    "    response = llm.invoke(prompt)\n",
    "    return {\"messages\": [response]}\n"
   ]
  },
  {
   "cell_type": "code",
   "execution_count": 7,
   "metadata": {},
   "outputs": [],
   "source": [
    "from langgraph.graph import StateGraph\n",
    "\n",
    "workflow = StateGraph(AgentState)\n",
    "\n",
    "workflow.add_node(\"Summarizer\",summarizer)\n",
    "workflow.add_node(\"Reviewer\",reviewer)\n",
    "\n",
    "workflow.add_edge('Summarizer','Reviewer')\n",
    "\n",
    "workflow.set_entry_point(\"Summarizer\")\n",
    "workflow.set_finish_point(\"Reviewer\")\n",
    "\n",
    "app = workflow.compile()"
   ]
  },
  {
   "cell_type": "code",
   "execution_count": 8,
   "metadata": {},
   "outputs": [
    {
     "data": {
      "image/jpeg": "[encoded data removed]",
      "text/plain": [
       "<IPython.core.display.Image object>"
      ]
     },
     "metadata": {},
     "output_type": "display_data"
    }
   ],
   "source": [
    "from IPython.display import Image,display\n",
    "\n",
    "display(Image(app.get_graph(xray = True).draw_mermaid_png()))"
   ]
  },
  {
   "cell_type": "code",
   "execution_count": 14,
   "metadata": {},
   "outputs": [
    {
     "name": "stdout",
     "output_type": "stream",
     "text": [
      "{'Summarizer': {'messages': [AIMessage(content='Unfortunately, you did not provide the actual `git diff` output. However, I can explain how to interpret a `git diff` once you provide the output.\\n\\nA `git diff` command shows the differences between two commits, branches, or the working directory and the staging area. The output typically displays the following information:\\n\\n1. **File Changes**: The names of the files that have been modified, added, or deleted.\\n\\n2. **Line Changes**: For each modified file, the output shows the lines that have been added, removed, or changed. Added lines are prefixed with a `+`, removed lines are prefixed with a `-`, and unchanged lines have no prefix.\\n\\n3. **Chunk Headers**: Each set of changes is separated by a \"chunk header\" that provides context about the location of the changes within the file.\\n\\nThe summary should concisely describe the nature of the changes, such as:\\n\\n- Files added, modified, or deleted\\n- Brief descriptions of the significant changes made to each file\\n- Overall scope and purpose of the changes (e.g., bug fix, new feature, refactoring)\\n\\nPlease provide the actual `git diff` output, and I\\'ll be happy to summarize it for you.\\n\\n', additional_kwargs={'usage': {'prompt_tokens': 36, 'completion_tokens': 261, 'total_tokens': 297}, 'stop_reason': 'stop_sequence', 'model_id': 'anthropic.claude-3-sonnet-20240229-v1:0'}, response_metadata={'usage': {'prompt_tokens': 36, 'completion_tokens': 261, 'total_tokens': 297}, 'stop_reason': 'stop_sequence', 'model_id': 'anthropic.claude-3-sonnet-20240229-v1:0'}, id='run-949e7f95-7049-4529-864d-0c0ca18b75bd-0', usage_metadata={'input_tokens': 36, 'output_tokens': 261, 'total_tokens': 297})]}}\n",
      "----\n",
      "{'Reviewer': {'messages': [AIMessage(content=\"Thank you for providing the git diff. I'll review the code changes and provide feedback on potential risks and improvements in a concise manner.\\n\\n\", additional_kwargs={'usage': {'prompt_tokens': 42, 'completion_tokens': 30, 'total_tokens': 72}, 'stop_reason': 'stop_sequence', 'model_id': 'anthropic.claude-3-sonnet-20240229-v1:0'}, response_metadata={'usage': {'prompt_tokens': 42, 'completion_tokens': 30, 'total_tokens': 72}, 'stop_reason': 'stop_sequence', 'model_id': 'anthropic.claude-3-sonnet-20240229-v1:0'}, id='run-4181df15-11cc-4950-8b98-be4fa6177681-0', usage_metadata={'input_tokens': 42, 'output_tokens': 30, 'total_tokens': 72})]}}\n",
      "----\n"
     ]
    }
   ],
   "source": [
    "events = app.stream(\n",
    "    {\n",
    "        \"messages\": [\n",
    "            HumanMessage(\n",
    "                content=\"\"\"\n",
    "                diff --git a/README.md b/README.md\n",
    "index 28e5da8..68e3474 100644\n",
    "--- a/README.md\n",
    "+++ b/README.md\n",
    "@@ -1,2 +1 @@\n",
    "-# research-agent\n",
    "-It is a multi-agent workflow that uses langgraph library.\n",
    "+# research-agent\n",
    "\\ No newline at end of file\n",
    "\n",
    "                \"\"\"\n",
    "            )\n",
    "        ],\n",
    "    },\n",
    "    {\"recursion_limit\": 10},\n",
    ")\n",
    "for s in events:\n",
    "    print(s)\n",
    "    print(\"----\")"
   ]
  }
 ],
 "metadata": {
  "kernelspec": {
   "display_name": "pytorch",
   "language": "python",
   "name": "python3"
  },
  "language_info": {
   "codemirror_mode": {
    "name": "ipython",
    "version": 3
   },
   "file_extension": ".py",
   "mimetype": "text/x-python",
   "name": "python",
   "nbconvert_exporter": "python",
   "pygments_lexer": "ipython3",
   "version": "3.11.9"
  }
 },
 "nbformat": 4,
 "nbformat_minor": 2
}
